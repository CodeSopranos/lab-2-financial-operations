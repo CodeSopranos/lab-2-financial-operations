{
 "cells": [
  {
   "cell_type": "markdown",
   "metadata": {},
   "source": [
    "# Лабораторная работа №2\n",
    "рынок: **Китай** <br>\n",
    "период: **2018 год**\n",
    "\n",
    "Седунов Илья, <br>\n",
    "Альперович Вадим, <br>\n",
    "Славутин Александр, <br>\n",
    "17ПМИ."
   ]
  },
  {
   "cell_type": "code",
   "execution_count": 1,
   "metadata": {},
   "outputs": [],
   "source": [
    "import numpy as np\n",
    "import pandas as pd\n",
    "import yfinance as yf\n",
    "import matplotlib.pyplot as plt\n",
    "from tqdm import tqdm_notebook\n",
    "import warnings\n",
    "warnings.simplefilter('ignore')"
   ]
  },
  {
   "cell_type": "code",
   "execution_count": 2,
   "metadata": {},
   "outputs": [
    {
     "name": "stdout",
     "output_type": "stream",
     "text": [
      "China ticker symbols =  2500\n"
     ]
    }
   ],
   "source": [
    "df = pd.read_excel('data/china_stocks.xlsx').drop_duplicates(['Symbol'])\n",
    "symbols = list(df['Symbol'])\n",
    "print('China ticker symbols = ', len(symbols))"
   ]
  },
  {
   "cell_type": "code",
   "execution_count": 10,
   "metadata": {
    "scrolled": true
   },
   "outputs": [
    {
     "name": "stdout",
     "output_type": "stream",
     "text": [
      "Акции собраны!\n"
     ]
    }
   ],
   "source": [
    "from IPython.display import clear_output\n",
    "start = \"2018-01-01\"\n",
    "end   = \"2018-12-31\"\n",
    "stocks = {}\n",
    "\n",
    "for symbol in tqdm_notebook(symbols):\n",
    "    stocks[symbol] = yf.download(symbol, start=start, end=end, progress=False)\n",
    "clear_output()\n",
    "print('Акции собраны!')"
   ]
  },
  {
   "cell_type": "code",
   "execution_count": 22,
   "metadata": {},
   "outputs": [
    {
     "name": "stdout",
     "output_type": "stream",
     "text": [
      "Исторические данные для актива 300139.SZ\n"
     ]
    }
   ],
   "source": [
    "print('Исторические данные для актива', symbols[120])\n",
    "# stocks[symbols[120]].head()"
   ]
  },
  {
   "cell_type": "code",
   "execution_count": 12,
   "metadata": {},
   "outputs": [],
   "source": [
    "def get_descriptive_statistics(frame):\n",
    "    E = frame[\"log_return\"].mean()\n",
    "    sigma = frame[\"log_return\"].std()\n",
    "    frame['E'] = E\n",
    "    frame['Sigma'] = sigma\n",
    "    return frame, E, sigma\n",
    "\n",
    "def get_return(frame):\n",
    "    frame['return'] = frame['Close'] / frame['Close'].shift(1)\n",
    "    frame['log_return'] = np.log(frame['return'])\n",
    "    return frame"
   ]
  },
  {
   "cell_type": "code",
   "execution_count": 14,
   "metadata": {},
   "outputs": [
    {
     "data": {
      "application/vnd.jupyter.widget-view+json": {
       "model_id": "94338cfa29924c428bcff7690f638f06",
       "version_major": 2,
       "version_minor": 0
      },
      "text/plain": [
       "HBox(children=(FloatProgress(value=0.0, max=2500.0), HTML(value='')))"
      ]
     },
     "metadata": {},
     "output_type": "display_data"
    },
    {
     "name": "stdout",
     "output_type": "stream",
     "text": [
      "\n"
     ]
    }
   ],
   "source": [
    "stock_stat = pd.DataFrame(columns=['symbol',  'E', 'Sigma', 'mean_vol', 'mean_return', 'mean_log_return'])\n",
    "\n",
    "for symbol in tqdm_notebook(symbols):\n",
    "    stock = get_return(stocks[symbol])\n",
    "    stock, E, Sigma = get_descriptive_statistics(stock)\n",
    "    stock_stat.loc[symbol] = [symbol,\n",
    "                               E,\n",
    "                               Sigma, \n",
    "                               stock['Volume'].mean(), \n",
    "                               stock['return'].mean(), \n",
    "                               stock['log_return'].mean()]"
   ]
  },
  {
   "cell_type": "code",
   "execution_count": 21,
   "metadata": {},
   "outputs": [
    {
     "name": "stdout",
     "output_type": "stream",
     "text": [
      "Осталось активов после обработки 2389\n"
     ]
    }
   ],
   "source": [
    "stock_stat.dropna(inplace=True)\n",
    "print('Осталось активов после обработки', len(stock_stat))\n",
    "# stock_stat.head(3)"
   ]
  },
  {
   "cell_type": "code",
   "execution_count": 20,
   "metadata": {},
   "outputs": [],
   "source": [
    "# SSE50 index\n",
    "sse_components = pd.read_csv('data/SSE50.csv', names=['name', 'industry','symbol'])\n",
    "sse50 = yf.download('^SSE50', start=start, end=end, progress=False)\n",
    "# sse50.head(3)"
   ]
  },
  {
   "cell_type": "markdown",
   "metadata": {},
   "source": [
    "## 1. Efficient frontier. \n",
    "Выбрать на рынке набор из 50 акций. Построить эффективный фронт портфелей инвестиций без ограничений на короткие позиции и эффективный фронт с запретом коротких позиций. Сравнить эффективные фронты и сделать выводы. При построении эффективных фронтов вычислить портфели с минимальным риском и отметить их на соответствующем эффективном фронте. Рассмотреть портфель с равными долями вложения капитала и оценить, как далек этот портфель от эффективного фронта. Тот же вопрос для индекса рынка."
   ]
  },
  {
   "cell_type": "code",
   "execution_count": null,
   "metadata": {},
   "outputs": [],
   "source": []
  },
  {
   "cell_type": "markdown",
   "metadata": {},
   "source": [
    "## 2. Portfolio selection problem. \n",
    "Требуется построить «хорошие» инвестиционные портфели из 10 активов вместо исходных 50 (или даже всех активов рынка). Предложите способ выбрать 10 активов (из отобранных ранее 50) для формирования портфеля. Сравните эффективные фронты всего набора (50 акций) и выбранного набора активов (10 акций) для двух случаев\n",
    " - короткие продажи разрешены,\n",
    " - короткие продажи запрещены."
   ]
  },
  {
   "cell_type": "code",
   "execution_count": null,
   "metadata": {},
   "outputs": [],
   "source": []
  },
  {
   "cell_type": "code",
   "execution_count": null,
   "metadata": {},
   "outputs": [],
   "source": []
  },
  {
   "cell_type": "markdown",
   "metadata": {},
   "source": [
    "## 3. Risk aversion. \n",
    "Оцените свое отношение к риску и постройте свой личный оптимальный портфель инвестиций из выбранных 50 активов. Дайте характеристику портфеля по составу и долям активов. Оцените VaR доходностей портфеля. Рассмотрите два случая:\n",
    "\n",
    " - короткие продажи разрешены,\n",
    " - короткие продажи запрещены."
   ]
  },
  {
   "cell_type": "code",
   "execution_count": null,
   "metadata": {},
   "outputs": [],
   "source": []
  },
  {
   "cell_type": "code",
   "execution_count": null,
   "metadata": {},
   "outputs": [],
   "source": []
  },
  {
   "cell_type": "markdown",
   "metadata": {},
   "source": [
    "## 4. Risk aversion and Portfolio selection.\n",
    "Используя выбранное в п.3 отношение к риску постройте оптимальный портфель из 10 активов (вместо 50, см. п.2). Дайте характеристику этого портфеля по составу активов и долям инвестиций. Сравните с портфелем п.3. Оцените VaR доходностей портфеля. Рассмотрите два случая:\n",
    "\n",
    "  - короткие продажи разрешены,\n",
    "  - короткие продажи запрещены."
   ]
  },
  {
   "cell_type": "code",
   "execution_count": null,
   "metadata": {},
   "outputs": [],
   "source": []
  },
  {
   "cell_type": "code",
   "execution_count": null,
   "metadata": {},
   "outputs": [],
   "source": []
  },
  {
   "cell_type": "markdown",
   "metadata": {},
   "source": [
    "## 5. Markowitz-Tobin model. \n",
    "Рассмотрите набор активов, отобранных в п.2 (10 активов). Выберете безрисковый актив (можно виртуальный). Постройте рыночный (оптимальный) портфель. Сделайте анализ долей активов рыночного портфеля. Оцените VaR доходностей портфеля. Рассмотрите два случая:\n",
    "\n",
    " - короткие продажи разрешены,\n",
    " - короткие продажи запрещены.\n"
   ]
  },
  {
   "cell_type": "code",
   "execution_count": null,
   "metadata": {},
   "outputs": [],
   "source": []
  },
  {
   "cell_type": "code",
   "execution_count": null,
   "metadata": {},
   "outputs": [],
   "source": []
  },
  {
   "cell_type": "markdown",
   "metadata": {},
   "source": [
    "## 6. Бонус. Индекс рынка.\n",
    "\n",
    "Разберитесь, как составляется портфель индекса (определите веса, с которыми активы входят в индекс). Дайте характеристику индекса (гистограмма, распределение, выбросы). На основе метода главных компонент предложите свою модель индекса рынка. Сравните ваш индекс с индексом рынка."
   ]
  },
  {
   "cell_type": "code",
   "execution_count": null,
   "metadata": {},
   "outputs": [],
   "source": []
  },
  {
   "cell_type": "code",
   "execution_count": null,
   "metadata": {},
   "outputs": [],
   "source": []
  }
 ],
 "metadata": {
  "kernelspec": {
   "display_name": "Python 3",
   "language": "python",
   "name": "python3"
  },
  "language_info": {
   "codemirror_mode": {
    "name": "ipython",
    "version": 3
   },
   "file_extension": ".py",
   "mimetype": "text/x-python",
   "name": "python",
   "nbconvert_exporter": "python",
   "pygments_lexer": "ipython3",
   "version": "3.7.7"
  }
 },
 "nbformat": 4,
 "nbformat_minor": 4
}
